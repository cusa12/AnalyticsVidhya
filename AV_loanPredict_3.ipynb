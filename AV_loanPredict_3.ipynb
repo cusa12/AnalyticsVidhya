{
 "cells": [
  {
   "cell_type": "code",
   "execution_count": 1,
   "metadata": {
    "collapsed": true
   },
   "outputs": [],
   "source": [
    "import os\n",
    "import sys\n",
    "import numpy as np\n",
    "import pandas as pd\n",
    "import matplotlib.pyplot as plt\n",
    "from scipy.stats import mode\n",
    "import xgboost as xgb\n",
    "\n",
    "%matplotlib inline"
   ]
  },
  {
   "cell_type": "markdown",
   "metadata": {},
   "source": [
    "# train"
   ]
  },
  {
   "cell_type": "code",
   "execution_count": 196,
   "metadata": {
    "collapsed": true
   },
   "outputs": [],
   "source": [
    "#playing with train\n",
    "train = pd.read_csv(r\"C:\\Users\\rbakshee\\Desktop\\ooops\\AV\\loan prediction 3\\train_u6lujuX_CVtuZ9i.csv\")\n",
    "del train[\"Loan_ID\"]\n",
    "\n",
    "\n",
    "train.apply(lambda x : len(x.unique()))\n",
    "\n",
    "\n",
    "#fill na with null:\n",
    "train[\"Gender\"].fillna(\"Gender\", inplace = True)\n",
    "train[\"Dependents\"].fillna(\"Dependents\", inplace = True)\n",
    "train[\"Self_Employed\"].fillna(\"Self_Employed\", inplace = True)\n",
    "train[\"Credit_History\"].fillna(\"Credit_History\", inplace = True)\n",
    "\n",
    "#filling with mod\n",
    "\n",
    "train[\"LoanAmount\"].fillna(train[\"LoanAmount\"].mode()[0], inplace = True)\n",
    "train[\"Married\"].fillna(train[\"Married\"].mode()[0], inplace = True)\n",
    "train[\"Loan_Amount_Term\"].fillna(train[\"Loan_Amount_Term\"].mode()[0], inplace = True)\n",
    "\n",
    "\n",
    "train[\"Loan_per_month\"] = (train[\"LoanAmount\"]*1000)/train[\"Loan_Amount_Term\"]\n",
    "\n",
    "train[\"Income_per_month\"] = (train[\"ApplicantIncome\"] + train[\"CoapplicantIncome\"])/12\n",
    "\n",
    "train[train[\"Income_per_month\"] > train[\"Loan_per_month\"]]\n",
    "\"\"\"\n",
    "#train.describe()\n",
    "\n",
    "#train.dtypes\n",
    "\n",
    "#train.apply(lambda x : len(x.unique()))\n",
    "\n",
    "categorical_vars = [i for i in train.columns if train[i].dtype == 'O' ]\n",
    "#categorical_vars\n",
    "\n",
    "\n",
    "#check if any column is stll having nan\n",
    "for i in train.columns:\n",
    "    print(i, pd.isnull(train[i]).sum().sum())\n",
    "\"\"\"\n",
    "#for the column having only 2 values we will use map function\n",
    "train[\"Education\"] = train[\"Education\"].map({\"Graduate\": 1, \"Not Graduate\": 0})\n",
    "train[\"Loan_Status\"] = train[\"Loan_Status\"].map({\"Y\": 1, \"N\": 0})\n",
    "train[\"Married\"] = train[\"Married\"].map({\"Yes\": 1, \"No\": 0})\n",
    "\n",
    "#for the rest we use pd.get_dummies()\n",
    "\n",
    "train2 = pd.get_dummies(train[[\"Gender\", \"Dependents\",\"Self_Employed\",\"Credit_History\",\\\n",
    "                                  \"Property_Area\"]], prefix=\"is_\")\n",
    "\n",
    "#concat this train2 with main train\n",
    "train = pd.concat([train, train2], axis=1)\n",
    "\n",
    "\n",
    "#time to delete the object type columns of which we have already made into numeric\n",
    "del train[\"Gender\"]\n",
    "del train[\"Dependents\"]\n",
    "del train[\"Self_Employed\"]\n",
    "del train[\"Credit_History\"]\n",
    "del train[\"Property_Area\"]\n",
    "\n",
    "#rearranging columns of train according to test columns\n",
    "train = train[['Married', 'Education', 'ApplicantIncome', 'CoapplicantIncome',\n",
    "       'LoanAmount', 'Loan_Amount_Term', 'Loan_per_month', 'Income_per_month',\n",
    "       'is__Female', 'is__Gender', 'is__Male', 'is__0', 'is__1', 'is__2',\n",
    "       'is__3+', 'is__Dependents', 'is__No', 'is__Self_Employed', 'is__Yes',\n",
    "       'is__0.0', 'is__1.0', 'is__Credit_History', 'is__Rural',\n",
    "       'is__Semiurban', 'is__Urban', 'Loan_Status']]\n",
    "\n"
   ]
  },
  {
   "cell_type": "markdown",
   "metadata": {},
   "source": [
    "# test"
   ]
  },
  {
   "cell_type": "code",
   "execution_count": 242,
   "metadata": {
    "collapsed": true
   },
   "outputs": [],
   "source": [
    "#playing with test\n",
    "test = pd.read_csv(r\"C:\\Users\\rbakshee\\Desktop\\ooops\\AV\\loan prediction 3\\test_Y3wMUE5_7gLdaTN.csv\")\n",
    "test1 = test[\"Loan_ID\"]\n",
    "del test[\"Loan_ID\"]\n",
    "\n",
    "#fill na with null:\n",
    "\n",
    "test[\"Gender\"].fillna(\"Gender\", inplace = True)\n",
    "\n",
    "test[\"Dependents\"].fillna(\"Dependents\", inplace = True)\n",
    "test[\"Self_Employed\"].fillna(\"Self_Employed\", inplace = True)\n",
    "test[\"Credit_History\"].fillna(\"Credit_History\", inplace = True)\n",
    "\n",
    "#filling with mod\n",
    "test[\"LoanAmount\"].fillna(test[\"LoanAmount\"].mode()[0], inplace = True)\n",
    "test[\"Loan_Amount_Term\"].fillna(test[\"Loan_Amount_Term\"].mode()[0], inplace = True)\n",
    "test[\"Married\"].fillna(test[\"Married\"].mode()[0], inplace = True)\n",
    "\n",
    "test[\"Loan_per_month\"] = (test[\"LoanAmount\"]*1000)/test[\"Loan_Amount_Term\"]\n",
    "\n",
    "test[\"Income_per_month\"] = (test[\"ApplicantIncome\"] + test[\"CoapplicantIncome\"])/12\n",
    "\n",
    "\n",
    "#for the column having only 2 values we will use map function\n",
    "test[\"Education\"] = test[\"Education\"].map({\"Graduate\": 1, \"Not Graduate\": 0})\n",
    "test[\"Married\"] = test[\"Married\"].map({\"Yes\": 1, \"No\": 0})\n",
    "                                       \n",
    "\n",
    "test2 = pd.get_dummies(test[[\"Gender\", \"Dependents\",\"Self_Employed\",\"Credit_History\",\\\n",
    "                                  \"Property_Area\"]], prefix=\"is_\")\n",
    "\n",
    "test = pd.concat([test, test2], axis=1)\n",
    "\n",
    "#time to delete the object type columns of which we have already made into numeric\n",
    "del test[\"Gender\"]\n",
    "del test[\"Dependents\"]\n",
    "del test[\"Self_Employed\"]\n",
    "del test[\"Credit_History\"]\n",
    "del test[\"Property_Area\"]"
   ]
  },
  {
   "cell_type": "markdown",
   "metadata": {},
   "source": [
    "# scaling"
   ]
  },
  {
   "cell_type": "code",
   "execution_count": 221,
   "metadata": {
    "collapsed": true
   },
   "outputs": [],
   "source": [
    "from sklearn.preprocessing import StandardScaler"
   ]
  },
  {
   "cell_type": "code",
   "execution_count": 222,
   "metadata": {
    "collapsed": true
   },
   "outputs": [],
   "source": [
    "scaler = StandardScaler()"
   ]
  },
  {
   "cell_type": "code",
   "execution_count": 223,
   "metadata": {
    "collapsed": true
   },
   "outputs": [],
   "source": [
    "train_scaled = scaler.fit_transform(train[[x for x in list(train.columns) if x not in [\"Loan_Status\"]]] )\n",
    "test_scaled = scaler.transform(test)"
   ]
  },
  {
   "cell_type": "code",
   "execution_count": null,
   "metadata": {
    "collapsed": true
   },
   "outputs": [],
   "source": []
  },
  {
   "cell_type": "markdown",
   "metadata": {},
   "source": [
    "## cross validation"
   ]
  },
  {
   "cell_type": "code",
   "execution_count": 239,
   "metadata": {
    "collapsed": true
   },
   "outputs": [],
   "source": [
    "seed = 21"
   ]
  },
  {
   "cell_type": "code",
   "execution_count": 229,
   "metadata": {
    "collapsed": true
   },
   "outputs": [],
   "source": [
    "from sklearn.ensemble import RandomForestClassifier\n",
    "from sklearn import svm\n",
    "import xgboost as xgb\n",
    "from sklearn.model_selection import cross_val_score"
   ]
  },
  {
   "cell_type": "markdown",
   "metadata": {},
   "source": [
    "## 1- svm"
   ]
  },
  {
   "cell_type": "code",
   "execution_count": null,
   "metadata": {
    "collapsed": false
   },
   "outputs": [],
   "source": [
    "#cross validation score for svm with un scaled data\n",
    "best_svm = 0\n",
    "best_C = 0\n",
    "best_gamma = 0\n",
    "\n",
    "for g in [0.001, 0.01, 0.1, 1, 10, 100]:\n",
    "    for c in [0.001, 0.01, 0.1, 1, 10, 100]:\n",
    "        clf_svm = svm.SVC(C = c, gamma=g, random_state=seed)\n",
    "        \n",
    "        #using svm estimator\n",
    "        score_svm = cross_val_score(clf_svm, train[[x for x in list(train.columns) if x not in [\"Loan_Status\"]]], \\\n",
    "                        train[\"Loan_Status\"], cv = 10, scoring = 'accuracy')\n",
    "        if score_svm.mean() > best_svm:\n",
    "            best_svm = score_svm.mean()\n",
    "            best_C = c\n",
    "            best_gamma = g\n",
    "        print(score_svm.mean())\n",
    "            \n",
    "print(\"best score\", best_svm)\n",
    "print(\"best_C\", best_C)\n",
    "print(\"best_gamma\", best_gamma)\n"
   ]
  },
  {
   "cell_type": "code",
   "execution_count": null,
   "metadata": {
    "collapsed": false
   },
   "outputs": [],
   "source": [
    "#cross validation score for svm with scaled data\n",
    "best_svm = 0\n",
    "best_C = 0\n",
    "best_gamma = 0\n",
    "\n",
    "for g in [0.001, 0.01, 0.1, 1, 10, 100]:\n",
    "    for c in [0.001, 0.01, 0.1, 1, 10, 100]:\n",
    "        clf_svm_s = svm.SVC(C = c, gamma=g, random_state=seed)\n",
    "        \n",
    "        #using svm estimator\n",
    "        score_svm_s = cross_val_score(clf_svm_s, train_scaled, train[\"Loan_Status\"], cv = 10, scoring = 'accuracy')\n",
    "        if score_svm_s.mean() >= best_svm:\n",
    "            best_svm = score_svm_s.mean()\n",
    "            best_C = c\n",
    "            best_gamma = g\n",
    "        print(score_svm_s.mean())\n",
    "            \n",
    "print(\"best score\", best_svm)\n",
    "print(\"best_C\", best_C)\n",
    "print(\"best_gamma\", best_gamma)\n"
   ]
  },
  {
   "cell_type": "code",
   "execution_count": 257,
   "metadata": {
    "collapsed": true
   },
   "outputs": [],
   "source": [
    "clf = svm.SVC(C=10, gamma=0.001, random_state=seed)\n",
    "\n",
    "clf.fit(train_scaled, train[\"Loan_Status\"])\n",
    "predicted = clf.predict(test_scaled)\n",
    "\n",
    "sample_submission = pd.DataFrame()\n",
    "\n",
    "some = pd.Series(predicted)\n",
    "\n",
    "sample_submission = pd.concat([ test1, some], axis=1)\n",
    "\n",
    "sample_submission.columns = [\"Loan_ID\", \"Loan_Status\"]\n",
    "\n",
    "sample_submission[\"Loan_Status\"] = sample_submission[\"Loan_Status\"].map({1: \"Y\", 0: \"N\"})\n",
    "\n",
    "sample_submission = sample_submission[:367]\n",
    "\n",
    "sample_submission.to_csv(r\"C:\\Users\\rbakshee\\Desktop\\ooops\\AV\\loan prediction 3\\sample_submission.csv\", index=None)"
   ]
  },
  {
   "cell_type": "markdown",
   "metadata": {},
   "source": [
    "## 2 - random forest"
   ]
  },
  {
   "cell_type": "code",
   "execution_count": 268,
   "metadata": {
    "collapsed": false
   },
   "outputs": [
    {
     "name": "stdout",
     "output_type": "stream",
     "text": [
      "0.785167837627\n",
      "0.798074421025\n",
      "0.809445745511\n",
      "best score 0.809445745511\n",
      "best_e 500\n",
      "best_l 10\n"
     ]
    }
   ],
   "source": [
    "# cross validation for rf with un scaled data\n",
    "best = 0\n",
    "best_e = 0\n",
    "best_l = 0\n",
    "score = 0\n",
    "\n",
    "for e in [500, 1000, 1500]:\n",
    "    for l in [ 1,5,10,50,100,200,500]:\n",
    "        RFclf = RandomForestClassifier(n_estimators=e,max_features=25, oob_score='True', n_jobs=-1,min_samples_leaf=l \\\n",
    "                                       ,random_state=seed)\n",
    "\n",
    "            #using RF estimator\n",
    "        score = cross_val_score(RFclf, train[[x for x in list(train.columns) if x not in [\"Loan_Status\"]]], \\\n",
    "                        train[\"Loan_Status\"], cv = 10, scoring = 'accuracy')\n",
    "         \n",
    "        if score.mean() >= best:\n",
    "                best = score.mean()\n",
    "                best_e = e\n",
    "                best_l = l\n",
    "                \n",
    "                print(score.mean())\n",
    "            \n",
    "print(\"best score\", best)\n",
    "print(\"best_e\", best_e)\n",
    "print(\"best_l\", best_l)\n"
   ]
  },
  {
   "cell_type": "code",
   "execution_count": null,
   "metadata": {
    "collapsed": false
   },
   "outputs": [],
   "source": [
    "for i in [\"sqrt\",\"log2\", None ]:\n",
    "    for j in [\"accuracy\", 'roc_auc']:\n",
    "        RFclf = RandomForestClassifier(n_estimators=500,max_features=i, oob_score='True', n_jobs=-1,min_samples_leaf=10 \\\n",
    "                                       ,random_state=seed)\n",
    "\n",
    "            #using RF estimator\n",
    "        score = cross_val_score(RFclf, train[[x for x in list(train.columns) if x not in [\"Loan_Status\"]]], \\\n",
    "                        train[\"Loan_Status\"], cv = 10, scoring =j )\n",
    "        print(i)  \n",
    "        print(score)\n",
    "        print(score.mean())"
   ]
  },
  {
   "cell_type": "code",
   "execution_count": 271,
   "metadata": {
    "collapsed": false
   },
   "outputs": [
    {
     "data": {
      "text/plain": [
       "0.8094457455113192"
      ]
     },
     "execution_count": 271,
     "metadata": {},
     "output_type": "execute_result"
    }
   ],
   "source": [
    "RFclf = RandomForestClassifier(n_estimators=500, oob_score='True', n_jobs=-1,min_samples_leaf=10 \\\n",
    "                                       ,random_state=seed)\n",
    "\n",
    "            #using RF estimator\n",
    "score = cross_val_score(RFclf, train[[x for x in list(train.columns) if x not in [\"Loan_Status\"]]], \\\n",
    "                        train[\"Loan_Status\"], cv = 10, scoring ='accuracy' )\n",
    "score.mean()"
   ]
  },
  {
   "cell_type": "code",
   "execution_count": 401,
   "metadata": {
    "collapsed": false
   },
   "outputs": [
    {
     "name": "stdout",
     "output_type": "stream",
     "text": [
      "0.809445745511\n",
      "0.809445745511\n",
      "0.809445745511\n",
      "0.809445745511\n",
      "0.809445745511\n",
      "0.809445745511\n",
      "0.809445745511\n",
      "0.809445745511\n",
      "0.809445745511\n",
      "0.809445745511\n",
      "0.809445745511\n",
      "0.809445745511\n",
      "0.809445745511\n",
      "0.809445745511\n",
      "0.809445745511\n",
      "0.809445745511\n",
      "0.809445745511\n",
      "0.809445745511\n",
      "0.809445745511\n",
      "0.809445745511\n",
      "0.809445745511\n",
      "0.809445745511\n",
      "0.809445745511\n",
      "0.809445745511\n",
      "0.809445745511\n",
      "0.809445745511\n",
      "0.809445745511\n",
      "0.809445745511\n",
      "0.809445745511\n",
      "0.809445745511\n",
      "0.809445745511\n",
      "0.809445745511\n",
      "0.809445745511\n",
      "0.809445745511\n",
      "0.809445745511\n",
      "best score 0.809445745511\n",
      "best_e 150\n",
      "best_l 9\n",
      "best_d 4\n"
     ]
    }
   ],
   "source": [
    "# cross validation for rf with scaled data\n",
    "best = 0\n",
    "best_e = 0\n",
    "best_l = 0\n",
    "best_d = 0\n",
    "score = 0\n",
    "\n",
    "for e in [120,130,140,150]:\n",
    "    for l in [ 7,8,9]:\n",
    "        for d in [2,3,4]:\n",
    "            RFclf = RandomForestClassifier(n_estimators=e,max_features='auto', oob_score='True', n_jobs=-1,min_samples_leaf=l \\\n",
    "                                       ,max_depth = d,random_state=seed)\n",
    "\n",
    "            #using RF estimator\n",
    "            score = cross_val_score(RFclf, train[[x for x in list(train.columns) if x not in [\"Loan_Status\"]]],  \\\n",
    "                        train[\"Loan_Status\"], cv = 10, scoring = 'accuracy')\n",
    "         \n",
    "            if score.mean() >= best:\n",
    "                best = score.mean()\n",
    "                best_e = e\n",
    "                best_l = l\n",
    "                best_d = d\n",
    "                print(score.mean())\n",
    "            \n",
    "print(\"best score\", best)\n",
    "print(\"best_e\", best_e)\n",
    "print(\"best_l\", best_l)\n",
    "print(\"best_d\", best_d)"
   ]
  },
  {
   "cell_type": "code",
   "execution_count": 274,
   "metadata": {
    "collapsed": false
   },
   "outputs": [],
   "source": [
    "\n",
    "RFclf = RandomForestClassifier(n_estimators=1500,max_features=25, random_state=seed, min_samples_leaf=40)\n",
    "RFclf.fit(train_scaled, train[\"Loan_Status\"])\n",
    "\n",
    "\n",
    "predicted = RFclf.predict(test_scaled)\n",
    "\n",
    "sample_submission = pd.DataFrame()\n",
    "\n",
    "some = pd.Series(predicted)\n",
    "\n",
    "sample_submission = pd.concat([ test1, some], axis=1)\n",
    "\n",
    "sample_submission.columns = [\"Loan_ID\", \"Loan_Status\"]\n",
    "\n",
    "sample_submission[\"Loan_Status\"] = sample_submission[\"Loan_Status\"].map({1: \"Y\", 0: \"N\"})\n",
    "\n",
    "sample_submission = sample_submission[:367]\n",
    "\n",
    "sample_submission.to_csv(r\"C:\\Users\\rbakshee\\Desktop\\ooops\\AV\\loan prediction 3\\sample_submission.csv\", index=None)"
   ]
  },
  {
   "cell_type": "markdown",
   "metadata": {
    "collapsed": true
   },
   "source": [
    "## 3 - gradient boost machine"
   ]
  },
  {
   "cell_type": "code",
   "execution_count": 275,
   "metadata": {
    "collapsed": true
   },
   "outputs": [],
   "source": [
    "from sklearn.ensemble import GradientBoostingClassifier as GBC"
   ]
  },
  {
   "cell_type": "code",
   "execution_count": 278,
   "metadata": {
    "collapsed": false
   },
   "outputs": [
    {
     "name": "stdout",
     "output_type": "stream",
     "text": [
      "[ 0.68253968  0.68253968  0.68852459  0.68852459  0.68852459  0.68852459\n",
      "  0.68852459  0.68852459  0.68852459  0.68852459]\n",
      "0.687327608639\n"
     ]
    }
   ],
   "source": [
    "gbm = GBC(learning_rate=0.01, n_estimators=500,min_samples_split=500, min_samples_leaf=50, \\\n",
    "          subsample=0.8 , max_depth=8, random_state=seed)\n",
    "score = cross_val_score(gbm,train[[x for x in list(train.columns) if x not in [\"Loan_Status\"]]], \\\n",
    "                        train[\"Loan_Status\"], cv = 10, scoring = 'accuracy')\n",
    "         \n",
    "print(score)\n",
    "print(score.mean())\n"
   ]
  },
  {
   "cell_type": "code",
   "execution_count": 291,
   "metadata": {
    "collapsed": false
   },
   "outputs": [
    {
     "name": "stdout",
     "output_type": "stream",
     "text": [
      "1\n",
      "0.806167056987\n",
      "2\n",
      "0.806167056987\n",
      "3\n",
      "0.806167056987\n",
      "4\n",
      "0.806167056987\n",
      "5\n",
      "0.809445745511\n",
      "6\n",
      "0.809445745511\n",
      "7\n",
      "0.809445745511\n",
      "8\n",
      "0.809445745511\n",
      "37\n",
      "0.809445745511\n",
      "38\n",
      "0.809445745511\n",
      "39\n",
      "0.809445745511\n",
      "40\n",
      "0.809445745511\n",
      "41\n",
      "0.809445745511\n",
      "42\n",
      "0.809445745511\n",
      "43\n",
      "0.809445745511\n",
      "44\n",
      "0.809445745511\n",
      "73\n",
      "0.809445745511\n",
      "74\n",
      "0.809445745511\n",
      "75\n",
      "0.809445745511\n",
      "76\n",
      "0.809445745511\n",
      "77\n",
      "0.809445745511\n",
      "78\n",
      "0.809445745511\n",
      "79\n",
      "0.809445745511\n",
      "80\n",
      "0.809445745511\n",
      "89\n",
      "0.809445745511\n",
      "90\n",
      "0.809445745511\n",
      "91\n",
      "0.809445745511\n",
      "92\n",
      "0.809445745511\n",
      "best score 0.809445745511\n",
      "best_esti 500\n",
      "best_leaf 50\n",
      "best_split 250\n",
      "best_depth 20\n"
     ]
    }
   ],
   "source": [
    "best = 0\n",
    "best_esti = 0\n",
    "best_leaf = 0\n",
    "best_split = 0\n",
    "score = 0\n",
    "best_d = 0\n",
    "counter = 0\n",
    "\n",
    "for leaf in [10, 20, 50 ]:\n",
    "    for esti in [100, 500, 1000]:\n",
    "        for split in [100, 250, 500]:\n",
    "            for d in [5,10,15,20]:\n",
    "                gbm = GBC(learning_rate=0.01, n_estimators=esti,min_samples_split=split, min_samples_leaf=leaf, \\\n",
    "                           subsample=0.8 , max_depth=d, random_state=seed)\n",
    "                score = cross_val_score(gbm,train[[x for x in list(train.columns) if x not in [\"Loan_Status\"]]], \\\n",
    "                                        train[\"Loan_Status\"], cv = 10, scoring = 'accuracy')\n",
    "                counter += 1\n",
    "                \n",
    "                if score.mean() >= best:\n",
    "                    print(counter)\n",
    "                    best = score.mean()\n",
    "                    best_leaf = leaf\n",
    "                    best_esti = esti\n",
    "                    best_split = split\n",
    "                    best_d = d\n",
    "                    print(score.mean())\n",
    "print(\"best score\", best)\n",
    "print(\"best_esti\", best_esti)\n",
    "print(\"best_leaf\", best_leaf)\n",
    "print(\"best_split\", best_split)\n",
    "print(\"best_depth\", d)"
   ]
  },
  {
   "cell_type": "code",
   "execution_count": null,
   "metadata": {
    "collapsed": true
   },
   "outputs": [],
   "source": [
    "gbm\n",
    "best score 0.809445745511\n",
    "best_esti 100\n",
    "best_lr 0.01\n",
    "best_split 100\n",
    "-----------\n",
    "best score 0.809445745511\n",
    "best_esti 500\n",
    "best_leaf 50\n",
    "best_split 250\n",
    "best_depth 20"
   ]
  },
  {
   "cell_type": "code",
   "execution_count": 336,
   "metadata": {
    "collapsed": false
   },
   "outputs": [
    {
     "name": "stdout",
     "output_type": "stream",
     "text": [
      "0.687327608639 1\n",
      "0.687327608639 2\n",
      "0.687327608639 5\n",
      "0.778558417903 10\n",
      "0.804579755399 12\n",
      "0.809445745511 15\n",
      "0.809445745511 18\n",
      "0.809445745511 21\n",
      "0.809445745511 23\n",
      "0.809445745511 25\n"
     ]
    }
   ],
   "source": [
    "for i in [1,2,5,10,12,15,18,21,23,25]:\n",
    "    gbm = GBC(learning_rate=0.001, n_estimators=500,min_samples_split=250, min_samples_leaf=10, \\\n",
    "                       max_features = i,subsample=1 , max_depth=50, random_state=seed)\n",
    "    score = cross_val_score(gbm,train[[x for x in list(train.columns) if x not in [\"Loan_Status\"]]], \\\n",
    "                                        train[\"Loan_Status\"], cv = 10, scoring = 'accuracy')\n",
    "    print(score.mean(), i)"
   ]
  },
  {
   "cell_type": "code",
   "execution_count": 338,
   "metadata": {
    "collapsed": false
   },
   "outputs": [],
   "source": [
    "\n",
    "gbm =GBC(learning_rate=0.001, n_estimators=500,min_samples_split=250, min_samples_leaf=10, \\\n",
    "                       max_features = 20,subsample=1 , max_depth=50, random_state=seed)\n",
    "gbm.fit(train_scaled, train[\"Loan_Status\"])\n",
    "\n",
    "\n",
    "predicted = gbm.predict(test_scaled)\n",
    "\n",
    "sample_submission = pd.DataFrame()\n",
    "\n",
    "some = pd.Series(predicted)\n",
    "\n",
    "sample_submission = pd.concat([ test1, some], axis=1)\n",
    "\n",
    "sample_submission.columns = [\"Loan_ID\", \"Loan_Status\"]\n",
    "\n",
    "sample_submission[\"Loan_Status\"] = sample_submission[\"Loan_Status\"].map({1: \"Y\", 0: \"N\"})\n",
    "\n",
    "sample_submission = sample_submission[:367]\n",
    "\n",
    "sample_submission.to_csv(r\"C:\\Users\\rbakshee\\Desktop\\ooops\\AV\\loan prediction 3\\sample_submission.csv\", index=None)"
   ]
  },
  {
   "cell_type": "markdown",
   "metadata": {},
   "source": [
    "## 4- xgboost"
   ]
  },
  {
   "cell_type": "code",
   "execution_count": 345,
   "metadata": {
    "collapsed": true
   },
   "outputs": [],
   "source": [
    "import xgboost"
   ]
  },
  {
   "cell_type": "code",
   "execution_count": 383,
   "metadata": {
    "collapsed": false
   },
   "outputs": [
    {
     "name": "stdout",
     "output_type": "stream",
     "text": [
      "0.801301066875\n",
      "0.811137132449\n",
      "0.812776476711\n",
      "0.812776476711\n",
      "best score 0.812776476711\n",
      "best_esti 302\n",
      "best_depth 3\n"
     ]
    }
   ],
   "source": [
    "best = 0\n",
    "best_esti = 0\n",
    "score = 0\n",
    "best_d = 0\n",
    "for esti in [300,301,302]:\n",
    "    for d in [2,3,4]:\n",
    "        xgb = xgboost.XGBClassifier(learning_rate=0.001, n_estimators=esti, max_depth=d,seed = seed) \n",
    "        score = cross_val_score(xgb, train[[x for x in list(train.columns) if x not in [\"Loan_Status\"]]], \\\n",
    "                                        train[\"Loan_Status\"], cv = 10, scoring = 'accuracy')\n",
    "        if score.mean() >= best:\n",
    "            best = score.mean()\n",
    "            best_esti = esti\n",
    "            best_d = d\n",
    "            print(score.mean())\n",
    "print(\"best score\", best)\n",
    "print(\"best_esti\", best_esti)\n",
    "print(\"best_depth\", best_d)\n"
   ]
  },
  {
   "cell_type": "code",
   "execution_count": null,
   "metadata": {
    "collapsed": true
   },
   "outputs": [],
   "source": [
    "best score 0.812776476711\n",
    "best_esti 301\n",
    "best_depth 3"
   ]
  },
  {
   "cell_type": "code",
   "execution_count": 390,
   "metadata": {
    "collapsed": false
   },
   "outputs": [
    {
     "data": {
      "text/plain": [
       "0.81277647671090292"
      ]
     },
     "execution_count": 390,
     "metadata": {},
     "output_type": "execute_result"
    }
   ],
   "source": [
    "xgb = xgboost.XGBClassifier(learning_rate=0.001, n_estimators=301, max_depth=3,seed = seed) \n",
    "score = cross_val_score(xgb, train_scaled, train[\"Loan_Status\"], cv = 10, scoring = 'accuracy')\n",
    "score.mean()"
   ]
  },
  {
   "cell_type": "code",
   "execution_count": 386,
   "metadata": {
    "collapsed": true
   },
   "outputs": [],
   "source": [
    "xgb = xgboost.XGBClassifier(learning_rate=0.001, n_estimators=301, max_depth=3,seed = seed) \n",
    "xgb.fit(train_scaled, train[\"Loan_Status\"])\n",
    "\n",
    "\n",
    "predicted = xgb.predict(test_scaled)\n",
    "\n",
    "sample_submission = pd.DataFrame()\n",
    "\n",
    "some = pd.Series(predicted)\n",
    "\n",
    "sample_submission = pd.concat([ test1, some], axis=1)\n",
    "\n",
    "sample_submission.columns = [\"Loan_ID\", \"Loan_Status\"]\n",
    "\n",
    "sample_submission[\"Loan_Status\"] = sample_submission[\"Loan_Status\"].map({1: \"Y\", 0: \"N\"})\n",
    "\n",
    "sample_submission = sample_submission[:367]\n",
    "\n",
    "sample_submission.to_csv(r\"C:\\Users\\rbakshee\\Desktop\\ooops\\AV\\loan prediction 3\\sample_submission.csv\", index=None)"
   ]
  },
  {
   "cell_type": "code",
   "execution_count": null,
   "metadata": {
    "collapsed": true
   },
   "outputs": [],
   "source": []
  },
  {
   "cell_type": "code",
   "execution_count": null,
   "metadata": {
    "collapsed": true
   },
   "outputs": [],
   "source": []
  },
  {
   "cell_type": "code",
   "execution_count": null,
   "metadata": {
    "collapsed": true
   },
   "outputs": [],
   "source": []
  },
  {
   "cell_type": "code",
   "execution_count": null,
   "metadata": {
    "collapsed": true
   },
   "outputs": [],
   "source": []
  },
  {
   "cell_type": "code",
   "execution_count": null,
   "metadata": {
    "collapsed": true
   },
   "outputs": [],
   "source": []
  },
  {
   "cell_type": "code",
   "execution_count": null,
   "metadata": {
    "collapsed": true
   },
   "outputs": [],
   "source": []
  },
  {
   "cell_type": "code",
   "execution_count": null,
   "metadata": {
    "collapsed": true
   },
   "outputs": [],
   "source": []
  },
  {
   "cell_type": "code",
   "execution_count": null,
   "metadata": {
    "collapsed": true
   },
   "outputs": [],
   "source": []
  },
  {
   "cell_type": "code",
   "execution_count": null,
   "metadata": {
    "collapsed": true
   },
   "outputs": [],
   "source": []
  },
  {
   "cell_type": "code",
   "execution_count": null,
   "metadata": {
    "collapsed": true
   },
   "outputs": [],
   "source": []
  },
  {
   "cell_type": "code",
   "execution_count": null,
   "metadata": {
    "collapsed": true
   },
   "outputs": [],
   "source": []
  },
  {
   "cell_type": "code",
   "execution_count": null,
   "metadata": {
    "collapsed": true
   },
   "outputs": [],
   "source": []
  },
  {
   "cell_type": "code",
   "execution_count": null,
   "metadata": {
    "collapsed": true
   },
   "outputs": [],
   "source": []
  },
  {
   "cell_type": "code",
   "execution_count": null,
   "metadata": {
    "collapsed": true
   },
   "outputs": [],
   "source": []
  },
  {
   "cell_type": "markdown",
   "metadata": {},
   "source": [
    "## trying imputing with mode for all vars"
   ]
  },
  {
   "cell_type": "code",
   "execution_count": 435,
   "metadata": {
    "collapsed": false
   },
   "outputs": [],
   "source": [
    "#playing with train\n",
    "train = pd.read_csv(r\"C:\\Users\\rbakshee\\Desktop\\ooops\\AV\\loan prediction 3\\train_u6lujuX_CVtuZ9i.csv\")\n",
    "del train[\"Loan_ID\"]\n",
    "\n",
    "\n",
    "#filling with mod\n",
    "train[\"Gender\"].fillna(train[\"Gender\"].mode()[0], inplace = True)\n",
    "train[\"Dependents\"].fillna(train[\"Dependents\"].mode()[0], inplace = True)\n",
    "train[\"Self_Employed\"].fillna(train[\"Self_Employed\"].mode()[0], inplace = True)\n",
    "train[\"Credit_History\"].fillna(train[\"Credit_History\"].mode()[0], inplace = True)\n",
    "train[\"LoanAmount\"].fillna(train[\"LoanAmount\"].mode()[0], inplace = True)\n",
    "train[\"Married\"].fillna(train[\"Married\"].mode()[0], inplace = True)\n",
    "train[\"Loan_Amount_Term\"].fillna(train[\"Loan_Amount_Term\"].mode()[0], inplace = True)\n",
    "\n",
    "\n",
    "\n",
    "train[\"Loan_per_month\"] = (train[\"LoanAmount\"]*1000)/train[\"Loan_Amount_Term\"]\n",
    "\n",
    "train[\"Income_per_month\"] = (train[\"ApplicantIncome\"] + train[\"CoapplicantIncome\"])/12\n",
    "\n",
    "\n",
    "\n",
    "\n",
    "#for the column having only 2 values we will use map function\n",
    "train[\"Education\"] = train[\"Education\"].map({\"Graduate\": 1, \"Not Graduate\": 0})\n",
    "train[\"Loan_Status\"] = train[\"Loan_Status\"].map({\"Y\": 1, \"N\": 0})\n",
    "train[\"Married\"] = train[\"Married\"].map({\"Yes\": 1, \"No\": 0})\n",
    "\n",
    "train[\"Gender\"] = train[\"Gender\"].map({\"Male\":1, \"Female\" : 0})\n",
    "\n",
    "train[\"Dependents\"] = train[\"Dependents\"].map({'0':0, '1':1,'2':2, '3+':3})\n",
    "\n",
    "train[\"Self_Employed\"] = train[\"Self_Employed\"].map({\"No\":1, \"Yes\":0})\n",
    "\n",
    "train[\"Property_Area\"] = train[\"Property_Area\"].map({\"Semiurban\": 0, \"Urban\":1, \"Rural\":2})"
   ]
  },
  {
   "cell_type": "markdown",
   "metadata": {},
   "source": [
    "### test"
   ]
  },
  {
   "cell_type": "code",
   "execution_count": 455,
   "metadata": {
    "collapsed": true
   },
   "outputs": [],
   "source": [
    "test = pd.read_csv(r\"C:\\Users\\rbakshee\\Desktop\\ooops\\AV\\loan prediction 3\\test_Y3wMUE5_7gLdaTN.csv\")\n",
    "test1 = test[\"Loan_ID\"]\n",
    "del test[\"Loan_ID\"]"
   ]
  },
  {
   "cell_type": "code",
   "execution_count": 456,
   "metadata": {
    "collapsed": false
   },
   "outputs": [],
   "source": [
    "\n",
    "#filling with mod\n",
    "test[\"Gender\"].fillna(test[\"Gender\"].mode()[0], inplace = True)\n",
    "test[\"Dependents\"].fillna(test[\"Dependents\"].mode()[0], inplace = True)\n",
    "test[\"Self_Employed\"].fillna(test[\"Self_Employed\"].mode()[0], inplace = True)\n",
    "test[\"Credit_History\"].fillna(test[\"Credit_History\"].mode()[0], inplace = True)\n",
    "test[\"LoanAmount\"].fillna(test[\"LoanAmount\"].mode()[0], inplace = True)\n",
    "test[\"Married\"].fillna(test[\"Married\"].mode()[0], inplace = True)\n",
    "test[\"Loan_Amount_Term\"].fillna(test[\"Loan_Amount_Term\"].mode()[0], inplace = True)\n",
    "\n",
    "\n",
    "\n",
    "test[\"Loan_per_month\"] = (test[\"LoanAmount\"]*1000)/test[\"Loan_Amount_Term\"]\n",
    "\n",
    "test[\"Income_per_month\"] = (test[\"ApplicantIncome\"] + test[\"CoapplicantIncome\"])/12\n",
    "\n",
    "\n",
    "\n",
    "\n",
    "#for the column having only 2 values we will use map function\n",
    "test[\"Education\"] = test[\"Education\"].map({\"Graduate\": 1, \"Not Graduate\": 0})\n",
    "test[\"Married\"] = test[\"Married\"].map({\"Yes\": 1, \"No\": 0})\n",
    "\n",
    "test[\"Gender\"] = test[\"Gender\"].map({\"Male\":1, \"Female\" : 0})\n",
    "\n",
    "test[\"Dependents\"] = test[\"Dependents\"].map({'0':0, '1':1,'2':2, '3+':3})\n",
    "\n",
    "test[\"Self_Employed\"] = test[\"Self_Employed\"].map({\"No\":1, \"Yes\":0})\n",
    "\n",
    "test[\"Property_Area\"] = test[\"Property_Area\"].map({\"Semiurban\": 0, \"Urban\":1, \"Rural\":2})"
   ]
  },
  {
   "cell_type": "code",
   "execution_count": 457,
   "metadata": {
    "collapsed": false
   },
   "outputs": [
    {
     "name": "stdout",
     "output_type": "stream",
     "text": [
      "0.687327608639\n",
      "0.687327608639\n",
      "0.687327608639\n",
      "0.684153005464\n",
      "0.685792349727\n",
      "0.685792349727\n",
      "0.687327608639\n",
      "0.687327608639\n",
      "0.687327608639\n",
      "0.687327608639\n",
      "0.687327608639\n",
      "0.687327608639\n",
      "0.687327608639\n",
      "0.687327608639\n",
      "0.687327608639\n",
      "0.690606297164\n",
      "0.690606297164\n",
      "0.690606297164\n",
      "0.687327608639\n",
      "0.687327608639\n",
      "0.687327608639\n",
      "0.687327608639\n",
      "0.690606297164\n",
      "0.690606297164\n",
      "0.687327608639\n",
      "0.687327608639\n",
      "0.687327608639\n",
      "0.687327608639\n",
      "0.687327608639\n",
      "0.687327608639\n",
      "0.687327608639\n",
      "0.687327608639\n",
      "0.687327608639\n",
      "0.687327608639\n",
      "0.687327608639\n",
      "0.687327608639\n",
      "best score 0.690606297164\n",
      "best_C 1\n",
      "best_gamma 0.1\n"
     ]
    }
   ],
   "source": [
    "#cross validation score for svm with un scaled data\n",
    "best_svm = 0\n",
    "best_C = 0\n",
    "best_gamma = 0\n",
    "\n",
    "for g in [0.001, 0.01, 0.1, 1, 10, 100]:\n",
    "    for c in [0.001, 0.01, 0.1, 1, 10, 100]:\n",
    "        clf_svm = svm.SVC(C = c, gamma=g, random_state=seed)\n",
    "        \n",
    "        #using svm estimator\n",
    "        score_svm = cross_val_score(clf_svm, train[[x for x in list(train.columns) if x not in [\"Loan_Status\"]]], \\\n",
    "                        train[\"Loan_Status\"], cv = 10, scoring = 'accuracy')\n",
    "        if score_svm.mean() > best_svm:\n",
    "            best_svm = score_svm.mean()\n",
    "            best_C = c\n",
    "            best_gamma = g\n",
    "        print(score_svm.mean())\n",
    "            \n",
    "print(\"best score\", best_svm)\n",
    "print(\"best_C\", best_C)\n",
    "print(\"best_gamma\", best_gamma)\n"
   ]
  },
  {
   "cell_type": "code",
   "execution_count": 458,
   "metadata": {
    "collapsed": true
   },
   "outputs": [],
   "source": [
    "train_scaled = scaler.fit_transform(train[[x for x in list(train.columns) if x not in [\"Loan_Status\"]]] )\n",
    "test_scaled = scaler.transform(test)"
   ]
  },
  {
   "cell_type": "code",
   "execution_count": 461,
   "metadata": {
    "collapsed": false
   },
   "outputs": [
    {
     "name": "stdout",
     "output_type": "stream",
     "text": [
      "0.687308302485\n",
      "0.687308302485\n",
      "0.687308302485\n",
      "0.705050237969\n",
      "0.809571655209\n",
      "0.809571655209\n",
      "0.687308302485\n",
      "0.687308302485\n",
      "0.687308302485\n",
      "0.809545214172\n",
      "0.806292966684\n",
      "0.79013749339\n",
      "0.687308302485\n",
      "0.687308302485\n",
      "0.776916975145\n",
      "0.80142781597\n",
      "0.754309888948\n",
      "0.721655208884\n",
      "0.687308302485\n",
      "0.687308302485\n",
      "0.687308302485\n",
      "0.739423585405\n",
      "0.693786356425\n",
      "0.696906398731\n",
      "0.687308302485\n",
      "0.687308302485\n",
      "0.687308302485\n",
      "0.68561607615\n",
      "0.675806451613\n",
      "0.679058699101\n",
      "0.687308302485\n",
      "0.687308302485\n",
      "0.687308302485\n",
      "0.684029613961\n",
      "0.677472236912\n",
      "0.677472236912\n",
      "best score 0.809571655209\n",
      "best_C 10\n",
      "best_gamma 0.001\n"
     ]
    }
   ],
   "source": [
    "#cross validation score for svm with un scaled data\n",
    "best_svm = 0\n",
    "best_C = 0\n",
    "best_gamma = 0\n",
    "\n",
    "for g in [0.001, 0.01, 0.1, 1, 10, 100]:\n",
    "    for c in [0.001, 0.01, 0.1, 1, 10, 100]:\n",
    "        clf_svm = svm.SVC(C = c, gamma=g, random_state=seed)\n",
    "        \n",
    "        #using svm estimator\n",
    "        score_svm = cross_val_score(clf_svm, train_scaled ,\\\n",
    "                        train[\"Loan_Status\"], cv = 5, scoring = 'accuracy')\n",
    "        if score_svm.mean() > best_svm:\n",
    "            best_svm = score_svm.mean()\n",
    "            best_C = c\n",
    "            best_gamma = g\n",
    "        print(score_svm.mean())\n",
    "            \n",
    "print(\"best score\", best_svm)\n",
    "print(\"best_C\", best_C)\n",
    "print(\"best_gamma\", best_gamma)\n"
   ]
  }
 ],
 "metadata": {
  "anaconda-cloud": {},
  "kernelspec": {
   "display_name": "Python [default]",
   "language": "python",
   "name": "python3"
  },
  "language_info": {
   "codemirror_mode": {
    "name": "ipython",
    "version": 3
   },
   "file_extension": ".py",
   "mimetype": "text/x-python",
   "name": "python",
   "nbconvert_exporter": "python",
   "pygments_lexer": "ipython3",
   "version": "3.5.2"
  }
 },
 "nbformat": 4,
 "nbformat_minor": 1
}
